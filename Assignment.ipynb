{
 "cells": [
  {
   "cell_type": "markdown",
   "id": "2e443e3a-8b93-4bcc-8402-09c3a164d6f9",
   "metadata": {},
   "source": [
    "# My Jupyter Notebook on IBM Watson Studio"
   ]
  },
  {
   "cell_type": "markdown",
   "id": "fe158998-c128-4a29-aba1-a06a6bfcc36a",
   "metadata": {},
   "source": [
    "**Yuri Machado**\n",
    "<br> Logistics Coordinator"
   ]
  },
  {
   "cell_type": "code",
   "execution_count": null,
   "id": "b4269d79-79fa-401a-9e4f-6b8200ff505f",
   "metadata": {},
   "outputs": [],
   "source": [
    "_I am interested in data science because I love to solve business problem using their own resources_"
   ]
  }
 ],
 "metadata": {
  "kernelspec": {
   "display_name": "Python",
   "language": "python",
   "name": "conda-env-python-py"
  },
  "language_info": {
   "codemirror_mode": {
    "name": "ipython",
    "version": 3
   },
   "file_extension": ".py",
   "mimetype": "text/x-python",
   "name": "python",
   "nbconvert_exporter": "python",
   "pygments_lexer": "ipython3",
   "version": "3.7.12"
  }
 },
 "nbformat": 4,
 "nbformat_minor": 5
}
